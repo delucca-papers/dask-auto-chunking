{
 "cells": [
  {
   "cell_type": "markdown",
   "metadata": {},
   "source": [
    "# Embeddings Model"
   ]
  },
  {
   "cell_type": "markdown",
   "metadata": {},
   "source": [
    "Overview plan:\n",
    "- Compile all attributes, so they don't have dependencies\n",
    "- Extract embeddings from all attributes\n",
    "- Generate synthetic seismic data\n",
    "- Execute the attributes with the synthetic seismic data\n",
    "- Prepare the features\n",
    "- Train the model\n",
    "- Validate"
   ]
  },
  {
   "cell_type": "markdown",
   "metadata": {},
   "source": [
    "## Compiling the attributes"
   ]
  },
  {
   "cell_type": "code",
   "execution_count": 6,
   "metadata": {},
   "outputs": [
    {
     "name": "stdout",
     "output_type": "stream",
     "text": [
      "def run(segy_filepath: str, n_workers: int=1, single_threaded: bool=True):\n",
      "    from dasf_seismic.attributes.complex_trace import Envelope\n",
      "    from seismic.cluster import run_attribute\n",
      "    quality = Envelope()\n",
      "    return run_attribute(quality, segy_filepath, n_workers, single_threaded)\n",
      "\n"
     ]
    }
   ],
   "source": [
    "import ast\n",
    "import os\n",
    "import astor\n",
    "\n",
    "\n",
    "def read_file(file_path):\n",
    "    with open(file_path, \"r\") as file:\n",
    "        return file.read()\n",
    "\n",
    "\n",
    "def inline_imports(file_path, visited=None, base_path=\"\"):\n",
    "    if visited is None:\n",
    "        visited = set()\n",
    "\n",
    "    if file_path in visited:\n",
    "        return \"\"\n",
    "\n",
    "    visited.add(file_path)\n",
    "\n",
    "    full_path = os.path.join(base_path, file_path)\n",
    "    code = read_file(full_path)\n",
    "    tree = ast.parse(code)\n",
    "    inlined_code = \"\"\n",
    "\n",
    "    for node in tree.body:\n",
    "        if isinstance(node, (ast.Import, ast.ImportFrom)):\n",
    "            if isinstance(node, ast.Import):\n",
    "                module_name = node.names[0].name\n",
    "            elif isinstance(node, ast.ImportFrom):\n",
    "                module_name = node.module\n",
    "\n",
    "            module_path = module_name.replace(\".\", \"/\") + \".py\"\n",
    "            # Handle the case where module is a package (i.e., __init__.py)\n",
    "            if not os.path.exists(os.path.join(base_path, module_path)):\n",
    "                module_path = os.path.join(module_name.replace(\".\", \"/\"), \"__init__.py\")\n",
    "\n",
    "            if os.path.exists(os.path.join(base_path, module_path)):\n",
    "                inlined_code += inline_imports(module_path, visited, base_path)\n",
    "        else:\n",
    "            inlined_code += astor.to_source(node)\n",
    "\n",
    "    return inlined_code\n",
    "\n",
    "\n",
    "def create_single_script(main_script_path, base_path=\"\"):\n",
    "    single_file_code = inline_imports(main_script_path, base_path=base_path)\n",
    "    return single_file_code\n",
    "\n",
    "main_script_path = \"envelope.py\"\n",
    "base_path = \"../../../tools/seismic/seismic/attributes\"\n",
    "single_script_code = create_single_script(main_script_path, base_path)\n",
    "print(single_script_code)"
   ]
  },
  {
   "cell_type": "markdown",
   "metadata": {
    "vscode": {
     "languageId": "plaintext"
    }
   },
   "source": [
    "## Extract code embeddings"
   ]
  },
  {
   "cell_type": "code",
   "execution_count": null,
   "metadata": {},
   "outputs": [],
   "source": [
    "from transformers import RobertaTokenizer, RobertaModel\n",
    "import torch\n",
    "\n",
    "def get_code_embedding(code_snippet):\n",
    "    tokenizer = RobertaTokenizer.from_pretrained(\"huggingface/CodeBERTa-small-v1\")\n",
    "    model = RobertaModel.from_pretrained(\"huggingface/CodeBERTa-small-v1\")\n",
    "    \n",
    "    inputs = tokenizer(code_snippet, return_tensors=\"pt\")\n",
    "    outputs = model(**inputs)\n",
    "    \n",
    "    cls_embedding = outputs.last_hidden_state[:, 0, :]\n",
    "    return cls_embedding.detach().numpy()"
   ]
  }
 ],
 "metadata": {
  "kernelspec": {
   "display_name": "seismic-attributes-memory-profile",
   "language": "python",
   "name": "python3"
  },
  "language_info": {
   "codemirror_mode": {
    "name": "ipython",
    "version": 3
   },
   "file_extension": ".py",
   "mimetype": "text/x-python",
   "name": "python",
   "nbconvert_exporter": "python",
   "pygments_lexer": "ipython3",
   "version": "3.8.10"
  }
 },
 "nbformat": 4,
 "nbformat_minor": 2
}
