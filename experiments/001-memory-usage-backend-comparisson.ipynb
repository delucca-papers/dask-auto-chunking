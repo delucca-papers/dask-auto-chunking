{
 "cells": [
  {
   "metadata": {},
   "cell_type": "markdown",
   "source": [
    "# Memory Usage Backend Comparisson\n",
    "\n",
    "This experiment aims to evaluate the different measurements for the memory usage of the envelope seismic attribute operator.\n",
    "On this notebook you will find:\n",
    "- The problem statement\n",
    "- The data collection for the experiment\n",
    "- The evaluation of the experiment results."
   ],
   "id": "80745baf9fa2c21d"
  },
  {
   "metadata": {},
   "cell_type": "markdown",
   "source": [
    "## Problem statement\n",
    "\n",
    "In order to evaluate the memory usage of the envelope seismic attribute operator, we need to compare the memory usage of the different backends available.\n",
    "The backends available are the following:\n",
    "- [resource](https://docs.python.org/3/library/resource.html)\n",
    "- [psutil](https://psutil.readthedocs.io/en/latest/)\n",
    "- [tracemalloc](https://docs.python.org/3/library/tracemalloc.html)\n",
    "- [Direct kernel /proc file system](https://man7.org/linux/man-pages/man5/proc.5.html)\n",
    "\n",
    "After executing the experiment, we expect the measurements to be consistent and the memory usage to be similar across the different backends."
   ],
   "id": "2746975dc5989822"
  },
  {
   "metadata": {},
   "cell_type": "markdown",
   "source": [
    "## Data Collection\n",
    "\n",
    "The first step for data collection is generating the synthetic data.\n",
    "For testing purposes we will use the same data for all the backends."
   ],
   "id": "8f51a6e463691794"
  },
  {
   "metadata": {},
   "cell_type": "markdown",
   "source": "### Setup Environment",
   "id": "2fc992989dcc1ac0"
  },
  {
   "metadata": {
    "ExecuteTime": {
     "end_time": "2024-09-10T02:27:43.906220Z",
     "start_time": "2024-09-10T02:27:43.896899Z"
    }
   },
   "cell_type": "code",
   "source": [
    "import sys\n",
    "import os\n",
    "\n",
    "seismic_path = os.path.abspath('../tools/seismic')\n",
    "traceq_path = os.path.abspath('../tools/traceq')\n",
    "\n",
    "if seismic_path not in sys.path:\n",
    "    sys.path.append(seismic_path)\n",
    "\n",
    "if traceq_path not in sys.path:\n",
    "    sys.path.append(traceq_path)\n",
    "\n",
    "print(sys.path)"
   ],
   "id": "681e6c34f6f21157",
   "outputs": [
    {
     "name": "stdout",
     "output_type": "stream",
     "text": [
      "['/Users/delucca/Workspaces/src/unicamp/msc/seismic-attributes-memory-profile', '/Users/delucca/.pyenv/versions/3.8.10/lib/python38.zip', '/Users/delucca/.pyenv/versions/3.8.10/lib/python3.8', '/Users/delucca/.pyenv/versions/3.8.10/lib/python3.8/lib-dynload', '', '/Users/delucca/.pyenv/versions/seismic-attributes-memory-profile/lib/python3.8/site-packages', '/Users/delucca/Workspaces/src/unicamp/msc/seismic-attributes-memory-profile/tools/seismic', '/Users/delucca/Workspaces/src/unicamp/msc/seismic-attributes-memory-profile/tools/traceq']\n"
     ]
    }
   ],
   "execution_count": 1
  },
  {
   "metadata": {},
   "cell_type": "markdown",
   "source": "Now, lets setup some relevant global variables",
   "id": "cd3f1dddd7936fc2"
  },
  {
   "metadata": {
    "ExecuteTime": {
     "end_time": "2024-09-10T02:37:37.046033Z",
     "start_time": "2024-09-10T02:37:37.042597Z"
    }
   },
   "cell_type": "code",
   "source": [
    "from pprint import pprint\n",
    "\n",
    "NUM_INLINES = 600\n",
    "NUM_XLINES = 600\n",
    "NUM_SAMPLES = 600\n",
    "\n",
    "LOG_TRANSPORTS = ['CONSOLE','FILE']\n",
    "LOG_LEVEL = 'DEBUG'\n",
    "\n",
    "print('Experiment config:')\n",
    "pprint({\n",
    "    'NUM_INLINES': NUM_INLINES,\n",
    "    'NUM_XLINES': NUM_XLINES,\n",
    "    'NUM_SAMPLES': NUM_SAMPLES,\n",
    "    'LOG_TRANSPORTS': LOG_TRANSPORTS,\n",
    "    'LOG_LEVEL': LOG_LEVEL,\n",
    "}, indent=2, sort_dicts=True)"
   ],
   "id": "7696e0eab53432cd",
   "outputs": [
    {
     "name": "stdout",
     "output_type": "stream",
     "text": [
      "Experiment config:\n",
      "{ 'LOG_LEVEL': 'DEBUG',\n",
      "  'LOG_TRANSPORTS': ['CONSOLE', 'FILE'],\n",
      "  'NUM_INLINES': 600,\n",
      "  'NUM_SAMPLES': 600,\n",
      "  'NUM_XLINES': 600}\n"
     ]
    }
   ],
   "execution_count": 18
  },
  {
   "metadata": {},
   "cell_type": "markdown",
   "source": "### Setup Dependencies\n",
   "id": "2d39f4fd6990daed"
  },
  {
   "metadata": {
    "ExecuteTime": {
     "end_time": "2024-09-10T02:27:49.934496Z",
     "start_time": "2024-09-10T02:27:48.239700Z"
    }
   },
   "cell_type": "code",
   "source": [
    "%pip install -r ../tools/seismic/requirements.txt\n",
    "%pip install -r ../tools/traceq/requirements.txt"
   ],
   "id": "d15299f47d47b4c3",
   "outputs": [
    {
     "name": "stdout",
     "output_type": "stream",
     "text": [
      "Requirement already satisfied: segyio==1.9.12 in /Users/delucca/.pyenv/versions/3.8.10/envs/seismic-attributes-memory-profile/lib/python3.8/site-packages (from -r ../tools/seismic/requirements.txt (line 1)) (1.9.12)\r\n",
      "Requirement already satisfied: scipy==1.10.1 in /Users/delucca/.pyenv/versions/3.8.10/envs/seismic-attributes-memory-profile/lib/python3.8/site-packages (from -r ../tools/seismic/requirements.txt (line 2)) (1.10.1)\r\n",
      "Requirement already satisfied: numpy>=1.10 in /Users/delucca/.pyenv/versions/3.8.10/envs/seismic-attributes-memory-profile/lib/python3.8/site-packages (from segyio==1.9.12->-r ../tools/seismic/requirements.txt (line 1)) (1.24.4)\r\n",
      "Note: you may need to restart the kernel to use updated packages.\n",
      "Requirement already satisfied: toml==0.10.2 in /Users/delucca/.pyenv/versions/3.8.10/envs/seismic-attributes-memory-profile/lib/python3.8/site-packages (from -r ../tools/traceq/requirements.txt (line 1)) (0.10.2)\r\n",
      "Requirement already satisfied: toolz==0.12.1 in /Users/delucca/.pyenv/versions/3.8.10/envs/seismic-attributes-memory-profile/lib/python3.8/site-packages (from -r ../tools/traceq/requirements.txt (line 2)) (0.12.1)\r\n",
      "Requirement already satisfied: loguru==0.7.2 in /Users/delucca/.pyenv/versions/3.8.10/envs/seismic-attributes-memory-profile/lib/python3.8/site-packages (from -r ../tools/traceq/requirements.txt (line 3)) (0.7.2)\r\n",
      "Requirement already satisfied: pydantic==2.7.1 in /Users/delucca/.pyenv/versions/3.8.10/envs/seismic-attributes-memory-profile/lib/python3.8/site-packages (from -r ../tools/traceq/requirements.txt (line 4)) (2.7.1)\r\n",
      "Requirement already satisfied: pandas==1.5.3 in /Users/delucca/.pyenv/versions/3.8.10/envs/seismic-attributes-memory-profile/lib/python3.8/site-packages (from -r ../tools/traceq/requirements.txt (line 5)) (1.5.3)\r\n",
      "Requirement already satisfied: plotly==5.22.0 in /Users/delucca/.pyenv/versions/3.8.10/envs/seismic-attributes-memory-profile/lib/python3.8/site-packages (from -r ../tools/traceq/requirements.txt (line 6)) (5.22.0)\r\n",
      "Requirement already satisfied: plotly-resampler==0.10.0 in /Users/delucca/.pyenv/versions/3.8.10/envs/seismic-attributes-memory-profile/lib/python3.8/site-packages (from -r ../tools/traceq/requirements.txt (line 7)) (0.10.0)\r\n",
      "Requirement already satisfied: kaleido==0.2.1 in /Users/delucca/.pyenv/versions/3.8.10/envs/seismic-attributes-memory-profile/lib/python3.8/site-packages (from -r ../tools/traceq/requirements.txt (line 8)) (0.2.1)\r\n",
      "Requirement already satisfied: msgpack==1.0.8 in /Users/delucca/.pyenv/versions/3.8.10/envs/seismic-attributes-memory-profile/lib/python3.8/site-packages (from -r ../tools/traceq/requirements.txt (line 9)) (1.0.8)\r\n",
      "Requirement already satisfied: pydantic-core==2.18.2 in /Users/delucca/.pyenv/versions/3.8.10/envs/seismic-attributes-memory-profile/lib/python3.8/site-packages (from pydantic==2.7.1->-r ../tools/traceq/requirements.txt (line 4)) (2.18.2)\r\n",
      "Requirement already satisfied: annotated-types>=0.4.0 in /Users/delucca/.pyenv/versions/3.8.10/envs/seismic-attributes-memory-profile/lib/python3.8/site-packages (from pydantic==2.7.1->-r ../tools/traceq/requirements.txt (line 4)) (0.7.0)\r\n",
      "Requirement already satisfied: typing-extensions>=4.6.1 in /Users/delucca/.pyenv/versions/3.8.10/envs/seismic-attributes-memory-profile/lib/python3.8/site-packages (from pydantic==2.7.1->-r ../tools/traceq/requirements.txt (line 4)) (4.12.2)\r\n",
      "Requirement already satisfied: pytz>=2020.1 in /Users/delucca/.pyenv/versions/3.8.10/envs/seismic-attributes-memory-profile/lib/python3.8/site-packages (from pandas==1.5.3->-r ../tools/traceq/requirements.txt (line 5)) (2024.1)\r\n",
      "Requirement already satisfied: numpy>=1.20.3 in /Users/delucca/.pyenv/versions/3.8.10/envs/seismic-attributes-memory-profile/lib/python3.8/site-packages (from pandas==1.5.3->-r ../tools/traceq/requirements.txt (line 5)) (1.24.4)\r\n",
      "Requirement already satisfied: python-dateutil>=2.8.1 in /Users/delucca/.pyenv/versions/3.8.10/envs/seismic-attributes-memory-profile/lib/python3.8/site-packages (from pandas==1.5.3->-r ../tools/traceq/requirements.txt (line 5)) (2.9.0.post0)\r\n",
      "Requirement already satisfied: packaging in /Users/delucca/.pyenv/versions/3.8.10/envs/seismic-attributes-memory-profile/lib/python3.8/site-packages (from plotly==5.22.0->-r ../tools/traceq/requirements.txt (line 6)) (24.1)\r\n",
      "Requirement already satisfied: tenacity>=6.2.0 in /Users/delucca/.pyenv/versions/3.8.10/envs/seismic-attributes-memory-profile/lib/python3.8/site-packages (from plotly==5.22.0->-r ../tools/traceq/requirements.txt (line 6)) (9.0.0)\r\n",
      "Requirement already satisfied: orjson<4.0.0,>=3.8.0 in /Users/delucca/.pyenv/versions/3.8.10/envs/seismic-attributes-memory-profile/lib/python3.8/site-packages (from plotly-resampler==0.10.0->-r ../tools/traceq/requirements.txt (line 7)) (3.10.7)\r\n",
      "Requirement already satisfied: tsdownsample>=0.1.3 in /Users/delucca/.pyenv/versions/3.8.10/envs/seismic-attributes-memory-profile/lib/python3.8/site-packages (from plotly-resampler==0.10.0->-r ../tools/traceq/requirements.txt (line 7)) (0.1.3)\r\n",
      "Requirement already satisfied: dash>=2.9.0 in /Users/delucca/.pyenv/versions/3.8.10/envs/seismic-attributes-memory-profile/lib/python3.8/site-packages (from plotly-resampler==0.10.0->-r ../tools/traceq/requirements.txt (line 7)) (2.18.0)\r\n",
      "Requirement already satisfied: importlib-metadata in /Users/delucca/.pyenv/versions/3.8.10/envs/seismic-attributes-memory-profile/lib/python3.8/site-packages (from dash>=2.9.0->plotly-resampler==0.10.0->-r ../tools/traceq/requirements.txt (line 7)) (8.4.0)\r\n",
      "Requirement already satisfied: Flask<3.1,>=1.0.4 in /Users/delucca/.pyenv/versions/3.8.10/envs/seismic-attributes-memory-profile/lib/python3.8/site-packages (from dash>=2.9.0->plotly-resampler==0.10.0->-r ../tools/traceq/requirements.txt (line 7)) (3.0.3)\r\n",
      "Requirement already satisfied: dash-table==5.0.0 in /Users/delucca/.pyenv/versions/3.8.10/envs/seismic-attributes-memory-profile/lib/python3.8/site-packages (from dash>=2.9.0->plotly-resampler==0.10.0->-r ../tools/traceq/requirements.txt (line 7)) (5.0.0)\r\n",
      "Requirement already satisfied: dash-html-components==2.0.0 in /Users/delucca/.pyenv/versions/3.8.10/envs/seismic-attributes-memory-profile/lib/python3.8/site-packages (from dash>=2.9.0->plotly-resampler==0.10.0->-r ../tools/traceq/requirements.txt (line 7)) (2.0.0)\r\n",
      "Requirement already satisfied: setuptools in /Users/delucca/.pyenv/versions/3.8.10/envs/seismic-attributes-memory-profile/lib/python3.8/site-packages (from dash>=2.9.0->plotly-resampler==0.10.0->-r ../tools/traceq/requirements.txt (line 7)) (56.0.0)\r\n",
      "Requirement already satisfied: requests in /Users/delucca/.pyenv/versions/3.8.10/envs/seismic-attributes-memory-profile/lib/python3.8/site-packages (from dash>=2.9.0->plotly-resampler==0.10.0->-r ../tools/traceq/requirements.txt (line 7)) (2.32.3)\r\n",
      "Requirement already satisfied: nest-asyncio in /Users/delucca/.pyenv/versions/3.8.10/envs/seismic-attributes-memory-profile/lib/python3.8/site-packages (from dash>=2.9.0->plotly-resampler==0.10.0->-r ../tools/traceq/requirements.txt (line 7)) (1.6.0)\r\n",
      "Requirement already satisfied: retrying in /Users/delucca/.pyenv/versions/3.8.10/envs/seismic-attributes-memory-profile/lib/python3.8/site-packages (from dash>=2.9.0->plotly-resampler==0.10.0->-r ../tools/traceq/requirements.txt (line 7)) (1.3.4)\r\n",
      "Requirement already satisfied: dash-core-components==2.0.0 in /Users/delucca/.pyenv/versions/3.8.10/envs/seismic-attributes-memory-profile/lib/python3.8/site-packages (from dash>=2.9.0->plotly-resampler==0.10.0->-r ../tools/traceq/requirements.txt (line 7)) (2.0.0)\r\n",
      "Requirement already satisfied: Werkzeug<3.1 in /Users/delucca/.pyenv/versions/3.8.10/envs/seismic-attributes-memory-profile/lib/python3.8/site-packages (from dash>=2.9.0->plotly-resampler==0.10.0->-r ../tools/traceq/requirements.txt (line 7)) (3.0.4)\r\n",
      "Requirement already satisfied: Jinja2>=3.1.2 in /Users/delucca/.pyenv/versions/3.8.10/envs/seismic-attributes-memory-profile/lib/python3.8/site-packages (from Flask<3.1,>=1.0.4->dash>=2.9.0->plotly-resampler==0.10.0->-r ../tools/traceq/requirements.txt (line 7)) (3.1.4)\r\n",
      "Requirement already satisfied: itsdangerous>=2.1.2 in /Users/delucca/.pyenv/versions/3.8.10/envs/seismic-attributes-memory-profile/lib/python3.8/site-packages (from Flask<3.1,>=1.0.4->dash>=2.9.0->plotly-resampler==0.10.0->-r ../tools/traceq/requirements.txt (line 7)) (2.2.0)\r\n",
      "Requirement already satisfied: blinker>=1.6.2 in /Users/delucca/.pyenv/versions/3.8.10/envs/seismic-attributes-memory-profile/lib/python3.8/site-packages (from Flask<3.1,>=1.0.4->dash>=2.9.0->plotly-resampler==0.10.0->-r ../tools/traceq/requirements.txt (line 7)) (1.8.2)\r\n",
      "Requirement already satisfied: click>=8.1.3 in /Users/delucca/.pyenv/versions/3.8.10/envs/seismic-attributes-memory-profile/lib/python3.8/site-packages (from Flask<3.1,>=1.0.4->dash>=2.9.0->plotly-resampler==0.10.0->-r ../tools/traceq/requirements.txt (line 7)) (8.1.7)\r\n",
      "Requirement already satisfied: zipp>=0.5 in /Users/delucca/.pyenv/versions/3.8.10/envs/seismic-attributes-memory-profile/lib/python3.8/site-packages (from importlib-metadata->dash>=2.9.0->plotly-resampler==0.10.0->-r ../tools/traceq/requirements.txt (line 7)) (3.20.1)\r\n",
      "Requirement already satisfied: MarkupSafe>=2.0 in /Users/delucca/.pyenv/versions/3.8.10/envs/seismic-attributes-memory-profile/lib/python3.8/site-packages (from Jinja2>=3.1.2->Flask<3.1,>=1.0.4->dash>=2.9.0->plotly-resampler==0.10.0->-r ../tools/traceq/requirements.txt (line 7)) (2.1.5)\r\n",
      "Requirement already satisfied: six>=1.5 in /Users/delucca/.pyenv/versions/3.8.10/envs/seismic-attributes-memory-profile/lib/python3.8/site-packages (from python-dateutil>=2.8.1->pandas==1.5.3->-r ../tools/traceq/requirements.txt (line 5)) (1.16.0)\r\n",
      "Requirement already satisfied: certifi>=2017.4.17 in /Users/delucca/.pyenv/versions/3.8.10/envs/seismic-attributes-memory-profile/lib/python3.8/site-packages (from requests->dash>=2.9.0->plotly-resampler==0.10.0->-r ../tools/traceq/requirements.txt (line 7)) (2024.8.30)\r\n",
      "Requirement already satisfied: urllib3<3,>=1.21.1 in /Users/delucca/.pyenv/versions/3.8.10/envs/seismic-attributes-memory-profile/lib/python3.8/site-packages (from requests->dash>=2.9.0->plotly-resampler==0.10.0->-r ../tools/traceq/requirements.txt (line 7)) (2.2.2)\r\n",
      "Requirement already satisfied: charset-normalizer<4,>=2 in /Users/delucca/.pyenv/versions/3.8.10/envs/seismic-attributes-memory-profile/lib/python3.8/site-packages (from requests->dash>=2.9.0->plotly-resampler==0.10.0->-r ../tools/traceq/requirements.txt (line 7)) (3.3.2)\r\n",
      "Requirement already satisfied: idna<4,>=2.5 in /Users/delucca/.pyenv/versions/3.8.10/envs/seismic-attributes-memory-profile/lib/python3.8/site-packages (from requests->dash>=2.9.0->plotly-resampler==0.10.0->-r ../tools/traceq/requirements.txt (line 7)) (3.8)\r\n",
      "Note: you may need to restart the kernel to use updated packages.\n"
     ]
    }
   ],
   "execution_count": 3
  },
  {
   "metadata": {},
   "cell_type": "markdown",
   "source": "### Setup output directory",
   "id": "1db24e2660792f88"
  },
  {
   "metadata": {
    "ExecuteTime": {
     "end_time": "2024-09-10T02:27:52.529591Z",
     "start_time": "2024-09-10T02:27:52.522492Z"
    }
   },
   "cell_type": "code",
   "source": [
    "import uuid\n",
    "import os\n",
    "\n",
    "from datetime import datetime\n",
    "\n",
    "EXPERIMENT_ID = f'001-{datetime.now().strftime(\"%Y%m%d%H%M%S\")}-{uuid.uuid4().hex[:6]}'\n",
    "OUTPUT_DIR = f'../output/{EXPERIMENT_ID}'\n",
    "\n",
    "os.makedirs(OUTPUT_DIR)\n",
    "\n",
    "OUTPUT_DIR"
   ],
   "id": "a6ea21f6bc82bceb",
   "outputs": [
    {
     "data": {
      "text/plain": [
       "'../output/001-20240909232752-c7ebee'"
      ]
     },
     "execution_count": 4,
     "metadata": {},
     "output_type": "execute_result"
    }
   ],
   "execution_count": 4
  },
  {
   "metadata": {},
   "cell_type": "markdown",
   "source": "### Generate Synthetic Data",
   "id": "cf38097269c60374"
  },
  {
   "metadata": {
    "ExecuteTime": {
     "end_time": "2024-09-10T02:36:44.971155Z",
     "start_time": "2024-09-10T02:36:44.967335Z"
    }
   },
   "cell_type": "code",
   "source": [
    "from seismic.data.synthetic import generate_and_save_synthetic_data\n",
    "\n",
    "DATA_OUTPUT_DIR = f'{OUTPUT_DIR}/data'\n",
    "\n",
    "synthetic_data_path = generate_and_save_synthetic_data(\n",
    "    NUM_INLINES,\n",
    "    NUM_XLINES,\n",
    "    NUM_SAMPLES,\n",
    "    output_dir=DATA_OUTPUT_DIR,\n",
    ")\n",
    "print(synthetic_data_path)"
   ],
   "id": "9b914b1054236010",
   "outputs": [
    {
     "name": "stdout",
     "output_type": "stream",
     "text": [
      "../output/001-20240909232752-c7ebee/data/600-600-600.segy\n"
     ]
    }
   ],
   "execution_count": 15
  },
  {
   "metadata": {},
   "cell_type": "markdown",
   "source": "### Collecting Data for Resource Backend",
   "id": "6eb0d1a8ad84b388"
  },
  {
   "metadata": {},
   "cell_type": "code",
   "outputs": [],
   "execution_count": null,
   "source": [
    "import traceq\n",
    "\n",
    "from seismic.attributes import envelope\n",
    "\n",
    "traceq.load_config(\n",
    "    {\n",
    "        \"output_dir\": OUTPUT_DIR,\n",
    "        \"logger\": {\n",
    "            \"enabled_transports\": LOG_TRANSPORTS,\n",
    "            \"level\": LOG_LEVEL,\n",
    "        },\n",
    "        \"profiler\": {\n",
    "            \"session_id\": 'resource',\n",
    "            \"memory_usage\": {\n",
    "                \"enabled_backends\": ['resource'],\n",
    "            },\n",
    "        },\n",
    "    }\n",
    ")\n",
    "\n",
    "traceq.profile(envelope.run, synthetic_data_path)"
   ],
   "id": "6d2c78c1147c0ddd"
  },
  {
   "metadata": {},
   "cell_type": "markdown",
   "source": "### Collecting Data for Psutil Backend",
   "id": "a97e63ec5445ff97"
  },
  {
   "metadata": {},
   "cell_type": "code",
   "outputs": [],
   "execution_count": null,
   "source": [
    "import traceq\n",
    "\n",
    "from seismic.attributes import envelope\n",
    "\n",
    "traceq.load_config(\n",
    "    {\n",
    "        \"output_dir\": OUTPUT_DIR,\n",
    "        \"logger\": {\n",
    "            \"enabled_transports\": LOG_TRANSPORTS,\n",
    "            \"level\": LOG_LEVEL,\n",
    "        },\n",
    "        \"profiler\": {\n",
    "            \"session_id\": 'psutil',\n",
    "            \"memory_usage\": {\n",
    "                \"enabled_backends\": ['psutil'],\n",
    "            },\n",
    "        },\n",
    "    }\n",
    ")\n",
    "\n",
    "traceq.profile(envelope.run, synthetic_data_path)"
   ],
   "id": "73cec796c576b439"
  },
  {
   "metadata": {},
   "cell_type": "markdown",
   "source": "### Collecting Data for Tracemalloc Backend",
   "id": "3140a8c2568d33e4"
  },
  {
   "metadata": {},
   "cell_type": "code",
   "outputs": [],
   "execution_count": null,
   "source": [
    "import traceq\n",
    "\n",
    "from seismic.attributes import envelope\n",
    "\n",
    "traceq.load_config(\n",
    "    {\n",
    "        \"output_dir\": OUTPUT_DIR,\n",
    "        \"logger\": {\n",
    "            \"enabled_transports\": LOG_TRANSPORTS,\n",
    "            \"level\": LOG_LEVEL,\n",
    "        },\n",
    "        \"profiler\": {\n",
    "            \"session_id\": 'tracemalloc',\n",
    "            \"memory_usage\": {\n",
    "                \"enabled_backends\": ['tracemalloc'],\n",
    "            },\n",
    "        },\n",
    "    }\n",
    ")\n",
    "\n",
    "traceq.profile(envelope.run, synthetic_data_path)"
   ],
   "id": "8116da84390b1924"
  },
  {
   "metadata": {},
   "cell_type": "markdown",
   "source": "### Collect Data for Kernel Backend",
   "id": "32f29e91c7fa4be"
  },
  {
   "metadata": {},
   "cell_type": "code",
   "outputs": [],
   "execution_count": null,
   "source": [
    "import traceq\n",
    "\n",
    "from seismic.attributes import envelope\n",
    "\n",
    "traceq.load_config(\n",
    "    {\n",
    "        \"output_dir\": OUTPUT_DIR,\n",
    "        \"logger\": {\n",
    "            \"enabled_transports\": LOG_TRANSPORTS,\n",
    "            \"level\": LOG_LEVEL,\n",
    "        },\n",
    "        \"profiler\": {\n",
    "            \"session_id\": 'kernel',\n",
    "            \"memory_usage\": {\n",
    "                \"enabled_backends\": ['kernel'],\n",
    "            },\n",
    "        },\n",
    "    }\n",
    ")\n",
    "\n",
    "traceq.profile(envelope.run, synthetic_data_path)"
   ],
   "id": "5ddd7468dd2ebfd7"
  }
 ],
 "metadata": {
  "kernelspec": {
   "display_name": "Python 3",
   "language": "python",
   "name": "python3"
  },
  "language_info": {
   "codemirror_mode": {
    "name": "ipython",
    "version": 2
   },
   "file_extension": ".py",
   "mimetype": "text/x-python",
   "name": "python",
   "nbconvert_exporter": "python",
   "pygments_lexer": "ipython2",
   "version": "2.7.6"
  }
 },
 "nbformat": 4,
 "nbformat_minor": 5
}
